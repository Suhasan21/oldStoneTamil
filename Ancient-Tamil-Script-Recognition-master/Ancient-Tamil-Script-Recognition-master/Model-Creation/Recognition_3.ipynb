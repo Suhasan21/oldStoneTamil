{
 "cells": [
  {
   "cell_type": "code",
   "execution_count": 1,
   "metadata": {},
   "outputs": [],
   "source": [
    "#importing necessary packages\n",
    "\n",
    "import os\n",
    "import cv2\n",
    "import tensorflow as tf"
   ]
  },
  {
   "cell_type": "code",
   "execution_count": 2,
   "metadata": {},
   "outputs": [
    {
     "name": "stdout",
     "output_type": "stream",
     "text": [
      "26\n"
     ]
    }
   ],
   "source": [
    "#Append all the categories we want to read\n",
    "CATEGORIES = []\n",
    "files = ['1 - Multipart','2 - Unknown']\n",
    "DATADIR = r'path_to\\Labelled Dataset - Fig 51'\n",
    "for directoryfile in os.listdir(DATADIR):\n",
    "    if(directoryfile in files):\n",
    "        continue\n",
    "    CATEGORIES.append(directoryfile)\n",
    "print(len(CATEGORIES))"
   ]
  },
  {
   "cell_type": "code",
   "execution_count": 3,
   "metadata": {},
   "outputs": [],
   "source": [
    "#The function prepare(file) allows us to use an image of any size, since it automatically resize it to the image size we defined in the first program.\n",
    "def prepare(file):\n",
    "    IMG_SIZE = 50\n",
    "    img_array = cv2.imread(file, cv2.IMREAD_GRAYSCALE)\n",
    "    new_array = cv2.resize(img_array, (IMG_SIZE, IMG_SIZE))\n",
    "    return new_array.reshape(-1, IMG_SIZE, IMG_SIZE, 1)"
   ]
  },
  {
   "cell_type": "code",
   "execution_count": 7,
   "metadata": {},
   "outputs": [
    {
     "name": "stdout",
     "output_type": "stream",
     "text": [
      "<class 'str'>\n"
     ]
    }
   ],
   "source": [
    "model = tf.keras.models.load_model(\"CNN.model\") # Loding pre-trained data from local machine\n",
    "image = prepare(r\"path_to\\Labelled Dataset - Fig 51\\l\\11.JPG\") #Single image that you want to predict\n",
    "prediction = model.predict([image])\n",
    "prediction = list(prediction[0])\n",
    "#print(CATEGORIES[prediction.index(max(prediction))]) #print label of max probability\n",
    "c = CATEGORIES[prediction.index(max(prediction))]\n",
    "print(type(c))"
   ]
  },
  {
   "cell_type": "code",
   "execution_count": null,
   "metadata": {},
   "outputs": [],
   "source": []
  },
  {
   "cell_type": "code",
   "execution_count": null,
   "metadata": {},
   "outputs": [],
   "source": []
  }
 ],
 "metadata": {
  "kernelspec": {
   "display_name": "Python 3",
   "language": "python",
   "name": "python3"
  },
  "language_info": {
   "codemirror_mode": {
    "name": "ipython",
    "version": 3
   },
   "file_extension": ".py",
   "mimetype": "text/x-python",
   "name": "python",
   "nbconvert_exporter": "python",
   "pygments_lexer": "ipython3",
   "version": "3.10.6 (tags/v3.10.6:9c7b4bd, Aug  1 2022, 21:53:49) [MSC v.1932 64 bit (AMD64)]"
  },
  "vscode": {
   "interpreter": {
    "hash": "1e62b08cf48ea3e02f8d65d3a16a0dcf176a3ebde2f5d732a89ef399b7f393f6"
   }
  }
 },
 "nbformat": 4,
 "nbformat_minor": 2
}
